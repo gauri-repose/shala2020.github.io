{
  "nbformat": 4,
  "nbformat_minor": 0,
  "metadata": {
    "colab": {
      "name": "Assignment_2_DS.ipynb",
      "provenance": [],
      "collapsed_sections": [],
      "toc_visible": true,
      "include_colab_link": true
    },
    "kernelspec": {
      "name": "python3",
      "display_name": "Python 3"
    }
  },
  "cells": [
    {
      "cell_type": "markdown",
      "metadata": {
        "id": "view-in-github",
        "colab_type": "text"
      },
      "source": [
        "<a href=\"https://colab.research.google.com/github/gauri-repose/shala2020.github.io/blob/master/Lecture_Materials/Assignments/DataScience/L2/DS_L2_17_Apr_Assignment_2_DS.ipynb\" target=\"_parent\"><img src=\"https://colab.research.google.com/assets/colab-badge.svg\" alt=\"Open In Colab\"/></a>"
      ]
    },
    {
      "cell_type": "markdown",
      "metadata": {
        "id": "1X6ddOR8HFsX",
        "colab_type": "text"
      },
      "source": [
        "\n",
        "# **Assignment - 2: Basic Data Understanding**\n",
        "\n",
        "---\n",
        "\n",
        "This assignment will get you familiarized with Python libraries and  functions required for data visualization."
      ]
    },
    {
      "cell_type": "markdown",
      "metadata": {
        "id": "XRd4EfXN5fQb",
        "colab_type": "text"
      },
      "source": [
        "---\n",
        "## Part 1 - Loading data \n",
        "---"
      ]
    },
    {
      "cell_type": "markdown",
      "metadata": {
        "id": "Q7W6I-fVIoqp",
        "colab_type": "text"
      },
      "source": [
        "###Import the following libraries:  \n",
        "\n",
        "* ```numpy``` with an alias name ```np```, \n",
        "* ```pandas``` with an alias name ```pd```, \n",
        "* ```matplotlib.pyplot``` with an alias name ```plt```, and \n",
        "* ```seaborn``` with an alias name ```sns```. "
      ]
    },
    {
      "cell_type": "code",
      "metadata": {
        "id": "NihF3MwIGI4m",
        "colab_type": "code",
        "colab": {}
      },
      "source": [
        "# Load the four libraries with their aliases \n",
        "import numpy as np\n",
        "import pandas as pd\n",
        "import matplotlib.pyplot as plt\n",
        "import seaborn as sns\n",
        "from scipy.stats import skew "
      ],
      "execution_count": 0,
      "outputs": []
    },
    {
      "cell_type": "markdown",
      "metadata": {
        "id": "dsLj-TSQJgMb",
        "colab_type": "text"
      },
      "source": [
        "### Using the files ```train.csv``` and ```moviesData.csv```,  peform the following:\n",
        "\n",
        "* Load these file as ```pandas``` dataframes and store it in variables named ```df``` and ```movies``` respectively. \n",
        "* Print the first ten rows of ```df```. \n",
        "\n"
      ]
    },
    {
      "cell_type": "code",
      "metadata": {
        "id": "3AjvT40AGIq6",
        "colab_type": "code",
        "colab": {
          "base_uri": "https://localhost:8080/",
          "height": 366
        },
        "outputId": "045f47fa-3485-4496-e8e5-813ac67ef00c"
      },
      "source": [
        "# Load the file as a dataframe \n",
        "movies =\"https://raw.githubusercontent.com/shala2020/shala2020.github.io/master/Lecture_Materials/Assignments/DataScience/L2/moviesData.csv\"\n",
        "df_movie=pd.read_csv(movies)\n",
        "df_movie.head()"
      ],
      "execution_count": 28,
      "outputs": [
        {
          "output_type": "execute_result",
          "data": {
            "text/html": [
              "<div>\n",
              "<style scoped>\n",
              "    .dataframe tbody tr th:only-of-type {\n",
              "        vertical-align: middle;\n",
              "    }\n",
              "\n",
              "    .dataframe tbody tr th {\n",
              "        vertical-align: top;\n",
              "    }\n",
              "\n",
              "    .dataframe thead th {\n",
              "        text-align: right;\n",
              "    }\n",
              "</style>\n",
              "<table border=\"1\" class=\"dataframe\">\n",
              "  <thead>\n",
              "    <tr style=\"text-align: right;\">\n",
              "      <th></th>\n",
              "      <th>Unnamed: 0</th>\n",
              "      <th>title</th>\n",
              "      <th>title_type</th>\n",
              "      <th>genre</th>\n",
              "      <th>runtime</th>\n",
              "      <th>mpaa_rating</th>\n",
              "      <th>studio</th>\n",
              "      <th>thtr_rel_year</th>\n",
              "      <th>thtr_rel_month</th>\n",
              "      <th>thtr_rel_day</th>\n",
              "      <th>dvd_rel_year</th>\n",
              "      <th>dvd_rel_month</th>\n",
              "      <th>dvd_rel_day</th>\n",
              "      <th>imdb_rating</th>\n",
              "      <th>imdb_num_votes</th>\n",
              "      <th>critics_rating</th>\n",
              "      <th>critics_score</th>\n",
              "      <th>audience_rating</th>\n",
              "      <th>audience_score</th>\n",
              "      <th>best_pic_nom</th>\n",
              "      <th>best_pic_win</th>\n",
              "      <th>best_actor_win</th>\n",
              "      <th>best_actress_win</th>\n",
              "      <th>best_dir_win</th>\n",
              "      <th>top200_box</th>\n",
              "      <th>director</th>\n",
              "      <th>actor1</th>\n",
              "      <th>actor2</th>\n",
              "      <th>actor3</th>\n",
              "      <th>actor4</th>\n",
              "      <th>actor5</th>\n",
              "    </tr>\n",
              "  </thead>\n",
              "  <tbody>\n",
              "    <tr>\n",
              "      <th>0</th>\n",
              "      <td>1</td>\n",
              "      <td>Filly Brown</td>\n",
              "      <td>Feature Film</td>\n",
              "      <td>Drama</td>\n",
              "      <td>80.0</td>\n",
              "      <td>R</td>\n",
              "      <td>Indomina Media Inc.</td>\n",
              "      <td>2013</td>\n",
              "      <td>4</td>\n",
              "      <td>19</td>\n",
              "      <td>2013.0</td>\n",
              "      <td>7.0</td>\n",
              "      <td>30.0</td>\n",
              "      <td>5.5</td>\n",
              "      <td>899</td>\n",
              "      <td>Rotten</td>\n",
              "      <td>45</td>\n",
              "      <td>Upright</td>\n",
              "      <td>73</td>\n",
              "      <td>no</td>\n",
              "      <td>no</td>\n",
              "      <td>no</td>\n",
              "      <td>no</td>\n",
              "      <td>no</td>\n",
              "      <td>no</td>\n",
              "      <td>Michael D. Olmos</td>\n",
              "      <td>Gina Rodriguez</td>\n",
              "      <td>Jenni Rivera</td>\n",
              "      <td>Lou Diamond Phillips</td>\n",
              "      <td>Emilio Rivera</td>\n",
              "      <td>Joseph Julian Soria</td>\n",
              "    </tr>\n",
              "    <tr>\n",
              "      <th>1</th>\n",
              "      <td>2</td>\n",
              "      <td>The Dish</td>\n",
              "      <td>Feature Film</td>\n",
              "      <td>Drama</td>\n",
              "      <td>101.0</td>\n",
              "      <td>PG-13</td>\n",
              "      <td>Warner Bros. Pictures</td>\n",
              "      <td>2001</td>\n",
              "      <td>3</td>\n",
              "      <td>14</td>\n",
              "      <td>2001.0</td>\n",
              "      <td>8.0</td>\n",
              "      <td>28.0</td>\n",
              "      <td>7.3</td>\n",
              "      <td>12285</td>\n",
              "      <td>Certified Fresh</td>\n",
              "      <td>96</td>\n",
              "      <td>Upright</td>\n",
              "      <td>81</td>\n",
              "      <td>no</td>\n",
              "      <td>no</td>\n",
              "      <td>no</td>\n",
              "      <td>no</td>\n",
              "      <td>no</td>\n",
              "      <td>no</td>\n",
              "      <td>Rob Sitch</td>\n",
              "      <td>Sam Neill</td>\n",
              "      <td>Kevin Harrington</td>\n",
              "      <td>Patrick Warburton</td>\n",
              "      <td>Tom Long</td>\n",
              "      <td>Genevieve Mooy</td>\n",
              "    </tr>\n",
              "    <tr>\n",
              "      <th>2</th>\n",
              "      <td>3</td>\n",
              "      <td>Waiting for Guffman</td>\n",
              "      <td>Feature Film</td>\n",
              "      <td>Comedy</td>\n",
              "      <td>84.0</td>\n",
              "      <td>R</td>\n",
              "      <td>Sony Pictures Classics</td>\n",
              "      <td>1996</td>\n",
              "      <td>8</td>\n",
              "      <td>21</td>\n",
              "      <td>2001.0</td>\n",
              "      <td>8.0</td>\n",
              "      <td>21.0</td>\n",
              "      <td>7.6</td>\n",
              "      <td>22381</td>\n",
              "      <td>Certified Fresh</td>\n",
              "      <td>91</td>\n",
              "      <td>Upright</td>\n",
              "      <td>91</td>\n",
              "      <td>no</td>\n",
              "      <td>no</td>\n",
              "      <td>no</td>\n",
              "      <td>no</td>\n",
              "      <td>no</td>\n",
              "      <td>no</td>\n",
              "      <td>Christopher Guest</td>\n",
              "      <td>Christopher Guest</td>\n",
              "      <td>Catherine O'Hara</td>\n",
              "      <td>Parker Posey</td>\n",
              "      <td>Eugene Levy</td>\n",
              "      <td>Bob Balaban</td>\n",
              "    </tr>\n",
              "    <tr>\n",
              "      <th>3</th>\n",
              "      <td>4</td>\n",
              "      <td>The Age of Innocence</td>\n",
              "      <td>Feature Film</td>\n",
              "      <td>Drama</td>\n",
              "      <td>139.0</td>\n",
              "      <td>PG</td>\n",
              "      <td>Columbia Pictures</td>\n",
              "      <td>1993</td>\n",
              "      <td>10</td>\n",
              "      <td>1</td>\n",
              "      <td>2001.0</td>\n",
              "      <td>11.0</td>\n",
              "      <td>6.0</td>\n",
              "      <td>7.2</td>\n",
              "      <td>35096</td>\n",
              "      <td>Certified Fresh</td>\n",
              "      <td>80</td>\n",
              "      <td>Upright</td>\n",
              "      <td>76</td>\n",
              "      <td>no</td>\n",
              "      <td>no</td>\n",
              "      <td>yes</td>\n",
              "      <td>no</td>\n",
              "      <td>yes</td>\n",
              "      <td>no</td>\n",
              "      <td>Martin Scorsese</td>\n",
              "      <td>Daniel Day-Lewis</td>\n",
              "      <td>Michelle Pfeiffer</td>\n",
              "      <td>Winona Ryder</td>\n",
              "      <td>Richard E. Grant</td>\n",
              "      <td>Alec McCowen</td>\n",
              "    </tr>\n",
              "    <tr>\n",
              "      <th>4</th>\n",
              "      <td>5</td>\n",
              "      <td>Malevolence</td>\n",
              "      <td>Feature Film</td>\n",
              "      <td>Horror</td>\n",
              "      <td>90.0</td>\n",
              "      <td>R</td>\n",
              "      <td>Anchor Bay Entertainment</td>\n",
              "      <td>2004</td>\n",
              "      <td>9</td>\n",
              "      <td>10</td>\n",
              "      <td>2005.0</td>\n",
              "      <td>4.0</td>\n",
              "      <td>19.0</td>\n",
              "      <td>5.1</td>\n",
              "      <td>2386</td>\n",
              "      <td>Rotten</td>\n",
              "      <td>33</td>\n",
              "      <td>Spilled</td>\n",
              "      <td>27</td>\n",
              "      <td>no</td>\n",
              "      <td>no</td>\n",
              "      <td>no</td>\n",
              "      <td>no</td>\n",
              "      <td>no</td>\n",
              "      <td>no</td>\n",
              "      <td>Stevan Mena</td>\n",
              "      <td>Samantha Dark</td>\n",
              "      <td>R. Brandon Johnson</td>\n",
              "      <td>Brandon Johnson</td>\n",
              "      <td>Heather Magee</td>\n",
              "      <td>Richard Glover</td>\n",
              "    </tr>\n",
              "  </tbody>\n",
              "</table>\n",
              "</div>"
            ],
            "text/plain": [
              "   Unnamed: 0                 title  ...            actor4               actor5\n",
              "0           1           Filly Brown  ...     Emilio Rivera  Joseph Julian Soria\n",
              "1           2              The Dish  ...          Tom Long       Genevieve Mooy\n",
              "2           3   Waiting for Guffman  ...       Eugene Levy          Bob Balaban\n",
              "3           4  The Age of Innocence  ...  Richard E. Grant         Alec McCowen\n",
              "4           5           Malevolence  ...     Heather Magee       Richard Glover\n",
              "\n",
              "[5 rows x 31 columns]"
            ]
          },
          "metadata": {
            "tags": []
          },
          "execution_count": 28
        }
      ]
    },
    {
      "cell_type": "code",
      "metadata": {
        "id": "VDdlG2pf0mOG",
        "colab_type": "code",
        "colab": {
          "base_uri": "https://localhost:8080/",
          "height": 299
        },
        "outputId": "2f3db5e7-f788-4ed1-ae13-3713cb67d449"
      },
      "source": [
        "train=\"https://raw.githubusercontent.com/shala2020/shala2020.github.io/master/Lecture_Materials/Assignments/DataScience/L2/train.csv\"\n",
        "df_train=pd.read_csv(train)\n",
        "df_train.head()"
      ],
      "execution_count": 4,
      "outputs": [
        {
          "output_type": "execute_result",
          "data": {
            "text/html": [
              "<div>\n",
              "<style scoped>\n",
              "    .dataframe tbody tr th:only-of-type {\n",
              "        vertical-align: middle;\n",
              "    }\n",
              "\n",
              "    .dataframe tbody tr th {\n",
              "        vertical-align: top;\n",
              "    }\n",
              "\n",
              "    .dataframe thead th {\n",
              "        text-align: right;\n",
              "    }\n",
              "</style>\n",
              "<table border=\"1\" class=\"dataframe\">\n",
              "  <thead>\n",
              "    <tr style=\"text-align: right;\">\n",
              "      <th></th>\n",
              "      <th>Age</th>\n",
              "      <th>Attrition</th>\n",
              "      <th>BusinessTravel</th>\n",
              "      <th>DailyRate</th>\n",
              "      <th>Department</th>\n",
              "      <th>DistanceFromHome</th>\n",
              "      <th>Education</th>\n",
              "      <th>EducationField</th>\n",
              "      <th>EmployeeCount</th>\n",
              "      <th>EmployeeNumber</th>\n",
              "      <th>EnvironmentSatisfaction</th>\n",
              "      <th>Gender</th>\n",
              "      <th>HourlyRate</th>\n",
              "      <th>JobInvolvement</th>\n",
              "      <th>JobLevel</th>\n",
              "      <th>JobRole</th>\n",
              "      <th>JobSatisfaction</th>\n",
              "      <th>MaritalStatus</th>\n",
              "      <th>MonthlyIncome</th>\n",
              "      <th>MonthlyRate</th>\n",
              "      <th>NumCompaniesWorked</th>\n",
              "      <th>OverTime</th>\n",
              "      <th>PercentSalaryHike</th>\n",
              "      <th>PerformanceRating</th>\n",
              "      <th>RelationshipSatisfaction</th>\n",
              "      <th>StockOptionLevel</th>\n",
              "      <th>TotalWorkingYears</th>\n",
              "      <th>TrainingTimesLastYear</th>\n",
              "      <th>WorkLifeBalance</th>\n",
              "      <th>YearsAtCompany</th>\n",
              "      <th>YearsInCurrentRole</th>\n",
              "      <th>YearsSinceLastPromotion</th>\n",
              "      <th>YearsWithCurrManager</th>\n",
              "      <th>ID</th>\n",
              "    </tr>\n",
              "  </thead>\n",
              "  <tbody>\n",
              "    <tr>\n",
              "      <th>0</th>\n",
              "      <td>41</td>\n",
              "      <td>1</td>\n",
              "      <td>Travel_Rarely</td>\n",
              "      <td>1102</td>\n",
              "      <td>Sales</td>\n",
              "      <td>1</td>\n",
              "      <td>2</td>\n",
              "      <td>Life Sciences</td>\n",
              "      <td>1</td>\n",
              "      <td>1</td>\n",
              "      <td>2</td>\n",
              "      <td>Female</td>\n",
              "      <td>94</td>\n",
              "      <td>3</td>\n",
              "      <td>2</td>\n",
              "      <td>Sales Executive</td>\n",
              "      <td>4</td>\n",
              "      <td>Single</td>\n",
              "      <td>5993</td>\n",
              "      <td>19479</td>\n",
              "      <td>8</td>\n",
              "      <td>Yes</td>\n",
              "      <td>11</td>\n",
              "      <td>3</td>\n",
              "      <td>1</td>\n",
              "      <td>0</td>\n",
              "      <td>8</td>\n",
              "      <td>0</td>\n",
              "      <td>1</td>\n",
              "      <td>6</td>\n",
              "      <td>4</td>\n",
              "      <td>0</td>\n",
              "      <td>5</td>\n",
              "      <td>0</td>\n",
              "    </tr>\n",
              "    <tr>\n",
              "      <th>1</th>\n",
              "      <td>49</td>\n",
              "      <td>0</td>\n",
              "      <td>Travel_Frequently</td>\n",
              "      <td>279</td>\n",
              "      <td>Research &amp; Development</td>\n",
              "      <td>8</td>\n",
              "      <td>1</td>\n",
              "      <td>Life Sciences</td>\n",
              "      <td>1</td>\n",
              "      <td>2</td>\n",
              "      <td>3</td>\n",
              "      <td>Male</td>\n",
              "      <td>61</td>\n",
              "      <td>2</td>\n",
              "      <td>2</td>\n",
              "      <td>Research Scientist</td>\n",
              "      <td>2</td>\n",
              "      <td>Married</td>\n",
              "      <td>5130</td>\n",
              "      <td>24907</td>\n",
              "      <td>1</td>\n",
              "      <td>No</td>\n",
              "      <td>23</td>\n",
              "      <td>4</td>\n",
              "      <td>4</td>\n",
              "      <td>1</td>\n",
              "      <td>10</td>\n",
              "      <td>3</td>\n",
              "      <td>3</td>\n",
              "      <td>10</td>\n",
              "      <td>7</td>\n",
              "      <td>1</td>\n",
              "      <td>7</td>\n",
              "      <td>1</td>\n",
              "    </tr>\n",
              "    <tr>\n",
              "      <th>2</th>\n",
              "      <td>37</td>\n",
              "      <td>1</td>\n",
              "      <td>Travel_Rarely</td>\n",
              "      <td>1373</td>\n",
              "      <td>Research &amp; Development</td>\n",
              "      <td>2</td>\n",
              "      <td>2</td>\n",
              "      <td>Other</td>\n",
              "      <td>1</td>\n",
              "      <td>4</td>\n",
              "      <td>4</td>\n",
              "      <td>Male</td>\n",
              "      <td>92</td>\n",
              "      <td>2</td>\n",
              "      <td>1</td>\n",
              "      <td>Laboratory Technician</td>\n",
              "      <td>3</td>\n",
              "      <td>Single</td>\n",
              "      <td>2090</td>\n",
              "      <td>2396</td>\n",
              "      <td>6</td>\n",
              "      <td>Yes</td>\n",
              "      <td>15</td>\n",
              "      <td>3</td>\n",
              "      <td>2</td>\n",
              "      <td>0</td>\n",
              "      <td>7</td>\n",
              "      <td>3</td>\n",
              "      <td>3</td>\n",
              "      <td>0</td>\n",
              "      <td>0</td>\n",
              "      <td>0</td>\n",
              "      <td>0</td>\n",
              "      <td>2</td>\n",
              "    </tr>\n",
              "    <tr>\n",
              "      <th>3</th>\n",
              "      <td>33</td>\n",
              "      <td>0</td>\n",
              "      <td>Travel_Frequently</td>\n",
              "      <td>1392</td>\n",
              "      <td>Research &amp; Development</td>\n",
              "      <td>3</td>\n",
              "      <td>4</td>\n",
              "      <td>Life Sciences</td>\n",
              "      <td>1</td>\n",
              "      <td>5</td>\n",
              "      <td>4</td>\n",
              "      <td>Female</td>\n",
              "      <td>56</td>\n",
              "      <td>3</td>\n",
              "      <td>1</td>\n",
              "      <td>Research Scientist</td>\n",
              "      <td>3</td>\n",
              "      <td>Married</td>\n",
              "      <td>2909</td>\n",
              "      <td>23159</td>\n",
              "      <td>1</td>\n",
              "      <td>Yes</td>\n",
              "      <td>11</td>\n",
              "      <td>3</td>\n",
              "      <td>3</td>\n",
              "      <td>0</td>\n",
              "      <td>8</td>\n",
              "      <td>3</td>\n",
              "      <td>3</td>\n",
              "      <td>8</td>\n",
              "      <td>7</td>\n",
              "      <td>3</td>\n",
              "      <td>0</td>\n",
              "      <td>3</td>\n",
              "    </tr>\n",
              "    <tr>\n",
              "      <th>4</th>\n",
              "      <td>27</td>\n",
              "      <td>0</td>\n",
              "      <td>Travel_Rarely</td>\n",
              "      <td>591</td>\n",
              "      <td>Research &amp; Development</td>\n",
              "      <td>2</td>\n",
              "      <td>1</td>\n",
              "      <td>Medical</td>\n",
              "      <td>1</td>\n",
              "      <td>7</td>\n",
              "      <td>1</td>\n",
              "      <td>Male</td>\n",
              "      <td>40</td>\n",
              "      <td>3</td>\n",
              "      <td>1</td>\n",
              "      <td>Laboratory Technician</td>\n",
              "      <td>2</td>\n",
              "      <td>Married</td>\n",
              "      <td>3468</td>\n",
              "      <td>16632</td>\n",
              "      <td>9</td>\n",
              "      <td>No</td>\n",
              "      <td>12</td>\n",
              "      <td>3</td>\n",
              "      <td>4</td>\n",
              "      <td>1</td>\n",
              "      <td>6</td>\n",
              "      <td>3</td>\n",
              "      <td>3</td>\n",
              "      <td>2</td>\n",
              "      <td>2</td>\n",
              "      <td>2</td>\n",
              "      <td>2</td>\n",
              "      <td>4</td>\n",
              "    </tr>\n",
              "  </tbody>\n",
              "</table>\n",
              "</div>"
            ],
            "text/plain": [
              "   Age  Attrition  ... YearsWithCurrManager  ID\n",
              "0   41          1  ...                    5   0\n",
              "1   49          0  ...                    7   1\n",
              "2   37          1  ...                    0   2\n",
              "3   33          0  ...                    0   3\n",
              "4   27          0  ...                    2   4\n",
              "\n",
              "[5 rows x 34 columns]"
            ]
          },
          "metadata": {
            "tags": []
          },
          "execution_count": 4
        }
      ]
    },
    {
      "cell_type": "code",
      "metadata": {
        "id": "WNEzet-C07Oi",
        "colab_type": "code",
        "colab": {
          "base_uri": "https://localhost:8080/",
          "height": 615
        },
        "outputId": "04e663f9-74bd-44e5-ccf1-c6dde034571a"
      },
      "source": [
        "df_movie.head(10)"
      ],
      "execution_count": 5,
      "outputs": [
        {
          "output_type": "execute_result",
          "data": {
            "text/html": [
              "<div>\n",
              "<style scoped>\n",
              "    .dataframe tbody tr th:only-of-type {\n",
              "        vertical-align: middle;\n",
              "    }\n",
              "\n",
              "    .dataframe tbody tr th {\n",
              "        vertical-align: top;\n",
              "    }\n",
              "\n",
              "    .dataframe thead th {\n",
              "        text-align: right;\n",
              "    }\n",
              "</style>\n",
              "<table border=\"1\" class=\"dataframe\">\n",
              "  <thead>\n",
              "    <tr style=\"text-align: right;\">\n",
              "      <th></th>\n",
              "      <th>Unnamed: 0</th>\n",
              "      <th>title</th>\n",
              "      <th>title_type</th>\n",
              "      <th>genre</th>\n",
              "      <th>runtime</th>\n",
              "      <th>mpaa_rating</th>\n",
              "      <th>studio</th>\n",
              "      <th>thtr_rel_year</th>\n",
              "      <th>thtr_rel_month</th>\n",
              "      <th>thtr_rel_day</th>\n",
              "      <th>dvd_rel_year</th>\n",
              "      <th>dvd_rel_month</th>\n",
              "      <th>dvd_rel_day</th>\n",
              "      <th>imdb_rating</th>\n",
              "      <th>imdb_num_votes</th>\n",
              "      <th>critics_rating</th>\n",
              "      <th>critics_score</th>\n",
              "      <th>audience_rating</th>\n",
              "      <th>audience_score</th>\n",
              "      <th>best_pic_nom</th>\n",
              "      <th>best_pic_win</th>\n",
              "      <th>best_actor_win</th>\n",
              "      <th>best_actress_win</th>\n",
              "      <th>best_dir_win</th>\n",
              "      <th>top200_box</th>\n",
              "      <th>director</th>\n",
              "      <th>actor1</th>\n",
              "      <th>actor2</th>\n",
              "      <th>actor3</th>\n",
              "      <th>actor4</th>\n",
              "      <th>actor5</th>\n",
              "    </tr>\n",
              "  </thead>\n",
              "  <tbody>\n",
              "    <tr>\n",
              "      <th>0</th>\n",
              "      <td>1</td>\n",
              "      <td>Filly Brown</td>\n",
              "      <td>Feature Film</td>\n",
              "      <td>Drama</td>\n",
              "      <td>80.0</td>\n",
              "      <td>R</td>\n",
              "      <td>Indomina Media Inc.</td>\n",
              "      <td>2013</td>\n",
              "      <td>4</td>\n",
              "      <td>19</td>\n",
              "      <td>2013.0</td>\n",
              "      <td>7.0</td>\n",
              "      <td>30.0</td>\n",
              "      <td>5.5</td>\n",
              "      <td>899</td>\n",
              "      <td>Rotten</td>\n",
              "      <td>45</td>\n",
              "      <td>Upright</td>\n",
              "      <td>73</td>\n",
              "      <td>no</td>\n",
              "      <td>no</td>\n",
              "      <td>no</td>\n",
              "      <td>no</td>\n",
              "      <td>no</td>\n",
              "      <td>no</td>\n",
              "      <td>Michael D. Olmos</td>\n",
              "      <td>Gina Rodriguez</td>\n",
              "      <td>Jenni Rivera</td>\n",
              "      <td>Lou Diamond Phillips</td>\n",
              "      <td>Emilio Rivera</td>\n",
              "      <td>Joseph Julian Soria</td>\n",
              "    </tr>\n",
              "    <tr>\n",
              "      <th>1</th>\n",
              "      <td>2</td>\n",
              "      <td>The Dish</td>\n",
              "      <td>Feature Film</td>\n",
              "      <td>Drama</td>\n",
              "      <td>101.0</td>\n",
              "      <td>PG-13</td>\n",
              "      <td>Warner Bros. Pictures</td>\n",
              "      <td>2001</td>\n",
              "      <td>3</td>\n",
              "      <td>14</td>\n",
              "      <td>2001.0</td>\n",
              "      <td>8.0</td>\n",
              "      <td>28.0</td>\n",
              "      <td>7.3</td>\n",
              "      <td>12285</td>\n",
              "      <td>Certified Fresh</td>\n",
              "      <td>96</td>\n",
              "      <td>Upright</td>\n",
              "      <td>81</td>\n",
              "      <td>no</td>\n",
              "      <td>no</td>\n",
              "      <td>no</td>\n",
              "      <td>no</td>\n",
              "      <td>no</td>\n",
              "      <td>no</td>\n",
              "      <td>Rob Sitch</td>\n",
              "      <td>Sam Neill</td>\n",
              "      <td>Kevin Harrington</td>\n",
              "      <td>Patrick Warburton</td>\n",
              "      <td>Tom Long</td>\n",
              "      <td>Genevieve Mooy</td>\n",
              "    </tr>\n",
              "    <tr>\n",
              "      <th>2</th>\n",
              "      <td>3</td>\n",
              "      <td>Waiting for Guffman</td>\n",
              "      <td>Feature Film</td>\n",
              "      <td>Comedy</td>\n",
              "      <td>84.0</td>\n",
              "      <td>R</td>\n",
              "      <td>Sony Pictures Classics</td>\n",
              "      <td>1996</td>\n",
              "      <td>8</td>\n",
              "      <td>21</td>\n",
              "      <td>2001.0</td>\n",
              "      <td>8.0</td>\n",
              "      <td>21.0</td>\n",
              "      <td>7.6</td>\n",
              "      <td>22381</td>\n",
              "      <td>Certified Fresh</td>\n",
              "      <td>91</td>\n",
              "      <td>Upright</td>\n",
              "      <td>91</td>\n",
              "      <td>no</td>\n",
              "      <td>no</td>\n",
              "      <td>no</td>\n",
              "      <td>no</td>\n",
              "      <td>no</td>\n",
              "      <td>no</td>\n",
              "      <td>Christopher Guest</td>\n",
              "      <td>Christopher Guest</td>\n",
              "      <td>Catherine O'Hara</td>\n",
              "      <td>Parker Posey</td>\n",
              "      <td>Eugene Levy</td>\n",
              "      <td>Bob Balaban</td>\n",
              "    </tr>\n",
              "    <tr>\n",
              "      <th>3</th>\n",
              "      <td>4</td>\n",
              "      <td>The Age of Innocence</td>\n",
              "      <td>Feature Film</td>\n",
              "      <td>Drama</td>\n",
              "      <td>139.0</td>\n",
              "      <td>PG</td>\n",
              "      <td>Columbia Pictures</td>\n",
              "      <td>1993</td>\n",
              "      <td>10</td>\n",
              "      <td>1</td>\n",
              "      <td>2001.0</td>\n",
              "      <td>11.0</td>\n",
              "      <td>6.0</td>\n",
              "      <td>7.2</td>\n",
              "      <td>35096</td>\n",
              "      <td>Certified Fresh</td>\n",
              "      <td>80</td>\n",
              "      <td>Upright</td>\n",
              "      <td>76</td>\n",
              "      <td>no</td>\n",
              "      <td>no</td>\n",
              "      <td>yes</td>\n",
              "      <td>no</td>\n",
              "      <td>yes</td>\n",
              "      <td>no</td>\n",
              "      <td>Martin Scorsese</td>\n",
              "      <td>Daniel Day-Lewis</td>\n",
              "      <td>Michelle Pfeiffer</td>\n",
              "      <td>Winona Ryder</td>\n",
              "      <td>Richard E. Grant</td>\n",
              "      <td>Alec McCowen</td>\n",
              "    </tr>\n",
              "    <tr>\n",
              "      <th>4</th>\n",
              "      <td>5</td>\n",
              "      <td>Malevolence</td>\n",
              "      <td>Feature Film</td>\n",
              "      <td>Horror</td>\n",
              "      <td>90.0</td>\n",
              "      <td>R</td>\n",
              "      <td>Anchor Bay Entertainment</td>\n",
              "      <td>2004</td>\n",
              "      <td>9</td>\n",
              "      <td>10</td>\n",
              "      <td>2005.0</td>\n",
              "      <td>4.0</td>\n",
              "      <td>19.0</td>\n",
              "      <td>5.1</td>\n",
              "      <td>2386</td>\n",
              "      <td>Rotten</td>\n",
              "      <td>33</td>\n",
              "      <td>Spilled</td>\n",
              "      <td>27</td>\n",
              "      <td>no</td>\n",
              "      <td>no</td>\n",
              "      <td>no</td>\n",
              "      <td>no</td>\n",
              "      <td>no</td>\n",
              "      <td>no</td>\n",
              "      <td>Stevan Mena</td>\n",
              "      <td>Samantha Dark</td>\n",
              "      <td>R. Brandon Johnson</td>\n",
              "      <td>Brandon Johnson</td>\n",
              "      <td>Heather Magee</td>\n",
              "      <td>Richard Glover</td>\n",
              "    </tr>\n",
              "    <tr>\n",
              "      <th>5</th>\n",
              "      <td>6</td>\n",
              "      <td>Old Partner</td>\n",
              "      <td>Documentary</td>\n",
              "      <td>Documentary</td>\n",
              "      <td>78.0</td>\n",
              "      <td>Unrated</td>\n",
              "      <td>Shcalo Media Group</td>\n",
              "      <td>2009</td>\n",
              "      <td>1</td>\n",
              "      <td>15</td>\n",
              "      <td>2010.0</td>\n",
              "      <td>4.0</td>\n",
              "      <td>20.0</td>\n",
              "      <td>7.8</td>\n",
              "      <td>333</td>\n",
              "      <td>Fresh</td>\n",
              "      <td>91</td>\n",
              "      <td>Upright</td>\n",
              "      <td>86</td>\n",
              "      <td>no</td>\n",
              "      <td>no</td>\n",
              "      <td>no</td>\n",
              "      <td>no</td>\n",
              "      <td>no</td>\n",
              "      <td>no</td>\n",
              "      <td>Chung-ryoul Lee</td>\n",
              "      <td>Choi Won-kyun</td>\n",
              "      <td>Lee Sam-soon</td>\n",
              "      <td>Moo</td>\n",
              "      <td>NaN</td>\n",
              "      <td>NaN</td>\n",
              "    </tr>\n",
              "    <tr>\n",
              "      <th>6</th>\n",
              "      <td>7</td>\n",
              "      <td>Lady Jane</td>\n",
              "      <td>Feature Film</td>\n",
              "      <td>Drama</td>\n",
              "      <td>142.0</td>\n",
              "      <td>PG-13</td>\n",
              "      <td>Paramount Home Video</td>\n",
              "      <td>1986</td>\n",
              "      <td>1</td>\n",
              "      <td>1</td>\n",
              "      <td>2003.0</td>\n",
              "      <td>2.0</td>\n",
              "      <td>18.0</td>\n",
              "      <td>7.2</td>\n",
              "      <td>5016</td>\n",
              "      <td>Rotten</td>\n",
              "      <td>57</td>\n",
              "      <td>Upright</td>\n",
              "      <td>76</td>\n",
              "      <td>no</td>\n",
              "      <td>no</td>\n",
              "      <td>no</td>\n",
              "      <td>no</td>\n",
              "      <td>no</td>\n",
              "      <td>no</td>\n",
              "      <td>Trevor Nunn</td>\n",
              "      <td>Cary Elwes</td>\n",
              "      <td>John Wood</td>\n",
              "      <td>Michael Hordern</td>\n",
              "      <td>Jill Bennett II</td>\n",
              "      <td>Helena Bonham Carter</td>\n",
              "    </tr>\n",
              "    <tr>\n",
              "      <th>7</th>\n",
              "      <td>8</td>\n",
              "      <td>Mad Dog Time</td>\n",
              "      <td>Feature Film</td>\n",
              "      <td>Drama</td>\n",
              "      <td>93.0</td>\n",
              "      <td>R</td>\n",
              "      <td>MGM/United Artists</td>\n",
              "      <td>1996</td>\n",
              "      <td>11</td>\n",
              "      <td>8</td>\n",
              "      <td>2004.0</td>\n",
              "      <td>3.0</td>\n",
              "      <td>2.0</td>\n",
              "      <td>5.5</td>\n",
              "      <td>2272</td>\n",
              "      <td>Rotten</td>\n",
              "      <td>17</td>\n",
              "      <td>Spilled</td>\n",
              "      <td>47</td>\n",
              "      <td>no</td>\n",
              "      <td>no</td>\n",
              "      <td>yes</td>\n",
              "      <td>no</td>\n",
              "      <td>no</td>\n",
              "      <td>no</td>\n",
              "      <td>Larry Bishop</td>\n",
              "      <td>Richard Dreyfuss</td>\n",
              "      <td>Jeff Goldblum</td>\n",
              "      <td>Gabriel Byrne</td>\n",
              "      <td>Ellen Barkin</td>\n",
              "      <td>Diane Lane</td>\n",
              "    </tr>\n",
              "    <tr>\n",
              "      <th>8</th>\n",
              "      <td>9</td>\n",
              "      <td>Beauty Is Embarrassing</td>\n",
              "      <td>Documentary</td>\n",
              "      <td>Documentary</td>\n",
              "      <td>88.0</td>\n",
              "      <td>Unrated</td>\n",
              "      <td>Independent Pictures</td>\n",
              "      <td>2012</td>\n",
              "      <td>9</td>\n",
              "      <td>7</td>\n",
              "      <td>2013.0</td>\n",
              "      <td>1.0</td>\n",
              "      <td>21.0</td>\n",
              "      <td>7.5</td>\n",
              "      <td>880</td>\n",
              "      <td>Fresh</td>\n",
              "      <td>90</td>\n",
              "      <td>Upright</td>\n",
              "      <td>89</td>\n",
              "      <td>no</td>\n",
              "      <td>no</td>\n",
              "      <td>no</td>\n",
              "      <td>no</td>\n",
              "      <td>no</td>\n",
              "      <td>no</td>\n",
              "      <td>Neil Berkeley</td>\n",
              "      <td>Paul Reubens</td>\n",
              "      <td>Matt Groening</td>\n",
              "      <td>Todd Oldham</td>\n",
              "      <td>Jonathan Dayton</td>\n",
              "      <td>Cliff Benjamin</td>\n",
              "    </tr>\n",
              "    <tr>\n",
              "      <th>9</th>\n",
              "      <td>10</td>\n",
              "      <td>The Snowtown Murders</td>\n",
              "      <td>Feature Film</td>\n",
              "      <td>Drama</td>\n",
              "      <td>119.0</td>\n",
              "      <td>Unrated</td>\n",
              "      <td>IFC Films</td>\n",
              "      <td>2012</td>\n",
              "      <td>3</td>\n",
              "      <td>2</td>\n",
              "      <td>2012.0</td>\n",
              "      <td>8.0</td>\n",
              "      <td>14.0</td>\n",
              "      <td>6.6</td>\n",
              "      <td>12496</td>\n",
              "      <td>Certified Fresh</td>\n",
              "      <td>83</td>\n",
              "      <td>Upright</td>\n",
              "      <td>66</td>\n",
              "      <td>no</td>\n",
              "      <td>no</td>\n",
              "      <td>no</td>\n",
              "      <td>no</td>\n",
              "      <td>no</td>\n",
              "      <td>no</td>\n",
              "      <td>Justin Kurzel</td>\n",
              "      <td>Lucas Pittaway</td>\n",
              "      <td>Daniel Henshall</td>\n",
              "      <td>Louise Harris</td>\n",
              "      <td>Craig Coyne</td>\n",
              "      <td>Richard Green</td>\n",
              "    </tr>\n",
              "  </tbody>\n",
              "</table>\n",
              "</div>"
            ],
            "text/plain": [
              "   Unnamed: 0                   title  ...            actor4                actor5\n",
              "0           1             Filly Brown  ...     Emilio Rivera   Joseph Julian Soria\n",
              "1           2                The Dish  ...          Tom Long        Genevieve Mooy\n",
              "2           3     Waiting for Guffman  ...       Eugene Levy           Bob Balaban\n",
              "3           4    The Age of Innocence  ...  Richard E. Grant          Alec McCowen\n",
              "4           5             Malevolence  ...     Heather Magee        Richard Glover\n",
              "5           6             Old Partner  ...               NaN                   NaN\n",
              "6           7               Lady Jane  ...   Jill Bennett II  Helena Bonham Carter\n",
              "7           8            Mad Dog Time  ...      Ellen Barkin            Diane Lane\n",
              "8           9  Beauty Is Embarrassing  ...   Jonathan Dayton        Cliff Benjamin\n",
              "9          10    The Snowtown Murders  ...       Craig Coyne         Richard Green\n",
              "\n",
              "[10 rows x 31 columns]"
            ]
          },
          "metadata": {
            "tags": []
          },
          "execution_count": 5
        }
      ]
    },
    {
      "cell_type": "code",
      "metadata": {
        "id": "7eCo7WlMGMkn",
        "colab_type": "code",
        "colab": {
          "base_uri": "https://localhost:8080/",
          "height": 531
        },
        "outputId": "bd072bdd-2bad-403d-a988-a94f915eed57"
      },
      "source": [
        "# Print the first ten rows of df\n",
        "df_train.head(10)"
      ],
      "execution_count": 6,
      "outputs": [
        {
          "output_type": "execute_result",
          "data": {
            "text/html": [
              "<div>\n",
              "<style scoped>\n",
              "    .dataframe tbody tr th:only-of-type {\n",
              "        vertical-align: middle;\n",
              "    }\n",
              "\n",
              "    .dataframe tbody tr th {\n",
              "        vertical-align: top;\n",
              "    }\n",
              "\n",
              "    .dataframe thead th {\n",
              "        text-align: right;\n",
              "    }\n",
              "</style>\n",
              "<table border=\"1\" class=\"dataframe\">\n",
              "  <thead>\n",
              "    <tr style=\"text-align: right;\">\n",
              "      <th></th>\n",
              "      <th>Age</th>\n",
              "      <th>Attrition</th>\n",
              "      <th>BusinessTravel</th>\n",
              "      <th>DailyRate</th>\n",
              "      <th>Department</th>\n",
              "      <th>DistanceFromHome</th>\n",
              "      <th>Education</th>\n",
              "      <th>EducationField</th>\n",
              "      <th>EmployeeCount</th>\n",
              "      <th>EmployeeNumber</th>\n",
              "      <th>EnvironmentSatisfaction</th>\n",
              "      <th>Gender</th>\n",
              "      <th>HourlyRate</th>\n",
              "      <th>JobInvolvement</th>\n",
              "      <th>JobLevel</th>\n",
              "      <th>JobRole</th>\n",
              "      <th>JobSatisfaction</th>\n",
              "      <th>MaritalStatus</th>\n",
              "      <th>MonthlyIncome</th>\n",
              "      <th>MonthlyRate</th>\n",
              "      <th>NumCompaniesWorked</th>\n",
              "      <th>OverTime</th>\n",
              "      <th>PercentSalaryHike</th>\n",
              "      <th>PerformanceRating</th>\n",
              "      <th>RelationshipSatisfaction</th>\n",
              "      <th>StockOptionLevel</th>\n",
              "      <th>TotalWorkingYears</th>\n",
              "      <th>TrainingTimesLastYear</th>\n",
              "      <th>WorkLifeBalance</th>\n",
              "      <th>YearsAtCompany</th>\n",
              "      <th>YearsInCurrentRole</th>\n",
              "      <th>YearsSinceLastPromotion</th>\n",
              "      <th>YearsWithCurrManager</th>\n",
              "      <th>ID</th>\n",
              "    </tr>\n",
              "  </thead>\n",
              "  <tbody>\n",
              "    <tr>\n",
              "      <th>0</th>\n",
              "      <td>41</td>\n",
              "      <td>1</td>\n",
              "      <td>Travel_Rarely</td>\n",
              "      <td>1102</td>\n",
              "      <td>Sales</td>\n",
              "      <td>1</td>\n",
              "      <td>2</td>\n",
              "      <td>Life Sciences</td>\n",
              "      <td>1</td>\n",
              "      <td>1</td>\n",
              "      <td>2</td>\n",
              "      <td>Female</td>\n",
              "      <td>94</td>\n",
              "      <td>3</td>\n",
              "      <td>2</td>\n",
              "      <td>Sales Executive</td>\n",
              "      <td>4</td>\n",
              "      <td>Single</td>\n",
              "      <td>5993</td>\n",
              "      <td>19479</td>\n",
              "      <td>8</td>\n",
              "      <td>Yes</td>\n",
              "      <td>11</td>\n",
              "      <td>3</td>\n",
              "      <td>1</td>\n",
              "      <td>0</td>\n",
              "      <td>8</td>\n",
              "      <td>0</td>\n",
              "      <td>1</td>\n",
              "      <td>6</td>\n",
              "      <td>4</td>\n",
              "      <td>0</td>\n",
              "      <td>5</td>\n",
              "      <td>0</td>\n",
              "    </tr>\n",
              "    <tr>\n",
              "      <th>1</th>\n",
              "      <td>49</td>\n",
              "      <td>0</td>\n",
              "      <td>Travel_Frequently</td>\n",
              "      <td>279</td>\n",
              "      <td>Research &amp; Development</td>\n",
              "      <td>8</td>\n",
              "      <td>1</td>\n",
              "      <td>Life Sciences</td>\n",
              "      <td>1</td>\n",
              "      <td>2</td>\n",
              "      <td>3</td>\n",
              "      <td>Male</td>\n",
              "      <td>61</td>\n",
              "      <td>2</td>\n",
              "      <td>2</td>\n",
              "      <td>Research Scientist</td>\n",
              "      <td>2</td>\n",
              "      <td>Married</td>\n",
              "      <td>5130</td>\n",
              "      <td>24907</td>\n",
              "      <td>1</td>\n",
              "      <td>No</td>\n",
              "      <td>23</td>\n",
              "      <td>4</td>\n",
              "      <td>4</td>\n",
              "      <td>1</td>\n",
              "      <td>10</td>\n",
              "      <td>3</td>\n",
              "      <td>3</td>\n",
              "      <td>10</td>\n",
              "      <td>7</td>\n",
              "      <td>1</td>\n",
              "      <td>7</td>\n",
              "      <td>1</td>\n",
              "    </tr>\n",
              "    <tr>\n",
              "      <th>2</th>\n",
              "      <td>37</td>\n",
              "      <td>1</td>\n",
              "      <td>Travel_Rarely</td>\n",
              "      <td>1373</td>\n",
              "      <td>Research &amp; Development</td>\n",
              "      <td>2</td>\n",
              "      <td>2</td>\n",
              "      <td>Other</td>\n",
              "      <td>1</td>\n",
              "      <td>4</td>\n",
              "      <td>4</td>\n",
              "      <td>Male</td>\n",
              "      <td>92</td>\n",
              "      <td>2</td>\n",
              "      <td>1</td>\n",
              "      <td>Laboratory Technician</td>\n",
              "      <td>3</td>\n",
              "      <td>Single</td>\n",
              "      <td>2090</td>\n",
              "      <td>2396</td>\n",
              "      <td>6</td>\n",
              "      <td>Yes</td>\n",
              "      <td>15</td>\n",
              "      <td>3</td>\n",
              "      <td>2</td>\n",
              "      <td>0</td>\n",
              "      <td>7</td>\n",
              "      <td>3</td>\n",
              "      <td>3</td>\n",
              "      <td>0</td>\n",
              "      <td>0</td>\n",
              "      <td>0</td>\n",
              "      <td>0</td>\n",
              "      <td>2</td>\n",
              "    </tr>\n",
              "    <tr>\n",
              "      <th>3</th>\n",
              "      <td>33</td>\n",
              "      <td>0</td>\n",
              "      <td>Travel_Frequently</td>\n",
              "      <td>1392</td>\n",
              "      <td>Research &amp; Development</td>\n",
              "      <td>3</td>\n",
              "      <td>4</td>\n",
              "      <td>Life Sciences</td>\n",
              "      <td>1</td>\n",
              "      <td>5</td>\n",
              "      <td>4</td>\n",
              "      <td>Female</td>\n",
              "      <td>56</td>\n",
              "      <td>3</td>\n",
              "      <td>1</td>\n",
              "      <td>Research Scientist</td>\n",
              "      <td>3</td>\n",
              "      <td>Married</td>\n",
              "      <td>2909</td>\n",
              "      <td>23159</td>\n",
              "      <td>1</td>\n",
              "      <td>Yes</td>\n",
              "      <td>11</td>\n",
              "      <td>3</td>\n",
              "      <td>3</td>\n",
              "      <td>0</td>\n",
              "      <td>8</td>\n",
              "      <td>3</td>\n",
              "      <td>3</td>\n",
              "      <td>8</td>\n",
              "      <td>7</td>\n",
              "      <td>3</td>\n",
              "      <td>0</td>\n",
              "      <td>3</td>\n",
              "    </tr>\n",
              "    <tr>\n",
              "      <th>4</th>\n",
              "      <td>27</td>\n",
              "      <td>0</td>\n",
              "      <td>Travel_Rarely</td>\n",
              "      <td>591</td>\n",
              "      <td>Research &amp; Development</td>\n",
              "      <td>2</td>\n",
              "      <td>1</td>\n",
              "      <td>Medical</td>\n",
              "      <td>1</td>\n",
              "      <td>7</td>\n",
              "      <td>1</td>\n",
              "      <td>Male</td>\n",
              "      <td>40</td>\n",
              "      <td>3</td>\n",
              "      <td>1</td>\n",
              "      <td>Laboratory Technician</td>\n",
              "      <td>2</td>\n",
              "      <td>Married</td>\n",
              "      <td>3468</td>\n",
              "      <td>16632</td>\n",
              "      <td>9</td>\n",
              "      <td>No</td>\n",
              "      <td>12</td>\n",
              "      <td>3</td>\n",
              "      <td>4</td>\n",
              "      <td>1</td>\n",
              "      <td>6</td>\n",
              "      <td>3</td>\n",
              "      <td>3</td>\n",
              "      <td>2</td>\n",
              "      <td>2</td>\n",
              "      <td>2</td>\n",
              "      <td>2</td>\n",
              "      <td>4</td>\n",
              "    </tr>\n",
              "    <tr>\n",
              "      <th>5</th>\n",
              "      <td>32</td>\n",
              "      <td>0</td>\n",
              "      <td>Travel_Frequently</td>\n",
              "      <td>1005</td>\n",
              "      <td>Research &amp; Development</td>\n",
              "      <td>2</td>\n",
              "      <td>2</td>\n",
              "      <td>Life Sciences</td>\n",
              "      <td>1</td>\n",
              "      <td>8</td>\n",
              "      <td>4</td>\n",
              "      <td>Male</td>\n",
              "      <td>79</td>\n",
              "      <td>3</td>\n",
              "      <td>1</td>\n",
              "      <td>Laboratory Technician</td>\n",
              "      <td>4</td>\n",
              "      <td>Single</td>\n",
              "      <td>3068</td>\n",
              "      <td>11864</td>\n",
              "      <td>0</td>\n",
              "      <td>No</td>\n",
              "      <td>13</td>\n",
              "      <td>3</td>\n",
              "      <td>3</td>\n",
              "      <td>0</td>\n",
              "      <td>8</td>\n",
              "      <td>2</td>\n",
              "      <td>2</td>\n",
              "      <td>7</td>\n",
              "      <td>7</td>\n",
              "      <td>3</td>\n",
              "      <td>6</td>\n",
              "      <td>5</td>\n",
              "    </tr>\n",
              "    <tr>\n",
              "      <th>6</th>\n",
              "      <td>59</td>\n",
              "      <td>0</td>\n",
              "      <td>Travel_Rarely</td>\n",
              "      <td>1324</td>\n",
              "      <td>Research &amp; Development</td>\n",
              "      <td>3</td>\n",
              "      <td>3</td>\n",
              "      <td>Medical</td>\n",
              "      <td>1</td>\n",
              "      <td>10</td>\n",
              "      <td>3</td>\n",
              "      <td>Female</td>\n",
              "      <td>81</td>\n",
              "      <td>4</td>\n",
              "      <td>1</td>\n",
              "      <td>Laboratory Technician</td>\n",
              "      <td>1</td>\n",
              "      <td>Married</td>\n",
              "      <td>2670</td>\n",
              "      <td>9964</td>\n",
              "      <td>4</td>\n",
              "      <td>Yes</td>\n",
              "      <td>20</td>\n",
              "      <td>4</td>\n",
              "      <td>1</td>\n",
              "      <td>3</td>\n",
              "      <td>12</td>\n",
              "      <td>3</td>\n",
              "      <td>2</td>\n",
              "      <td>1</td>\n",
              "      <td>0</td>\n",
              "      <td>0</td>\n",
              "      <td>0</td>\n",
              "      <td>6</td>\n",
              "    </tr>\n",
              "    <tr>\n",
              "      <th>7</th>\n",
              "      <td>30</td>\n",
              "      <td>0</td>\n",
              "      <td>Travel_Rarely</td>\n",
              "      <td>1358</td>\n",
              "      <td>Research &amp; Development</td>\n",
              "      <td>24</td>\n",
              "      <td>1</td>\n",
              "      <td>Life Sciences</td>\n",
              "      <td>1</td>\n",
              "      <td>11</td>\n",
              "      <td>4</td>\n",
              "      <td>Male</td>\n",
              "      <td>67</td>\n",
              "      <td>3</td>\n",
              "      <td>1</td>\n",
              "      <td>Laboratory Technician</td>\n",
              "      <td>3</td>\n",
              "      <td>Divorced</td>\n",
              "      <td>2693</td>\n",
              "      <td>13335</td>\n",
              "      <td>1</td>\n",
              "      <td>No</td>\n",
              "      <td>22</td>\n",
              "      <td>4</td>\n",
              "      <td>2</td>\n",
              "      <td>1</td>\n",
              "      <td>1</td>\n",
              "      <td>2</td>\n",
              "      <td>3</td>\n",
              "      <td>1</td>\n",
              "      <td>0</td>\n",
              "      <td>0</td>\n",
              "      <td>0</td>\n",
              "      <td>7</td>\n",
              "    </tr>\n",
              "    <tr>\n",
              "      <th>8</th>\n",
              "      <td>38</td>\n",
              "      <td>0</td>\n",
              "      <td>Travel_Frequently</td>\n",
              "      <td>216</td>\n",
              "      <td>Research &amp; Development</td>\n",
              "      <td>23</td>\n",
              "      <td>3</td>\n",
              "      <td>Life Sciences</td>\n",
              "      <td>1</td>\n",
              "      <td>12</td>\n",
              "      <td>4</td>\n",
              "      <td>Male</td>\n",
              "      <td>44</td>\n",
              "      <td>2</td>\n",
              "      <td>3</td>\n",
              "      <td>Manufacturing Director</td>\n",
              "      <td>3</td>\n",
              "      <td>Single</td>\n",
              "      <td>9526</td>\n",
              "      <td>8787</td>\n",
              "      <td>0</td>\n",
              "      <td>No</td>\n",
              "      <td>21</td>\n",
              "      <td>4</td>\n",
              "      <td>2</td>\n",
              "      <td>0</td>\n",
              "      <td>10</td>\n",
              "      <td>2</td>\n",
              "      <td>3</td>\n",
              "      <td>9</td>\n",
              "      <td>7</td>\n",
              "      <td>1</td>\n",
              "      <td>8</td>\n",
              "      <td>8</td>\n",
              "    </tr>\n",
              "    <tr>\n",
              "      <th>9</th>\n",
              "      <td>36</td>\n",
              "      <td>0</td>\n",
              "      <td>Travel_Rarely</td>\n",
              "      <td>1299</td>\n",
              "      <td>Research &amp; Development</td>\n",
              "      <td>27</td>\n",
              "      <td>3</td>\n",
              "      <td>Medical</td>\n",
              "      <td>1</td>\n",
              "      <td>13</td>\n",
              "      <td>3</td>\n",
              "      <td>Male</td>\n",
              "      <td>94</td>\n",
              "      <td>3</td>\n",
              "      <td>2</td>\n",
              "      <td>Healthcare Representative</td>\n",
              "      <td>3</td>\n",
              "      <td>Married</td>\n",
              "      <td>5237</td>\n",
              "      <td>16577</td>\n",
              "      <td>6</td>\n",
              "      <td>No</td>\n",
              "      <td>13</td>\n",
              "      <td>3</td>\n",
              "      <td>2</td>\n",
              "      <td>2</td>\n",
              "      <td>17</td>\n",
              "      <td>3</td>\n",
              "      <td>2</td>\n",
              "      <td>7</td>\n",
              "      <td>7</td>\n",
              "      <td>7</td>\n",
              "      <td>7</td>\n",
              "      <td>9</td>\n",
              "    </tr>\n",
              "  </tbody>\n",
              "</table>\n",
              "</div>"
            ],
            "text/plain": [
              "   Age  Attrition  ... YearsWithCurrManager  ID\n",
              "0   41          1  ...                    5   0\n",
              "1   49          0  ...                    7   1\n",
              "2   37          1  ...                    0   2\n",
              "3   33          0  ...                    0   3\n",
              "4   27          0  ...                    2   4\n",
              "5   32          0  ...                    6   5\n",
              "6   59          0  ...                    0   6\n",
              "7   30          0  ...                    0   7\n",
              "8   38          0  ...                    8   8\n",
              "9   36          0  ...                    7   9\n",
              "\n",
              "[10 rows x 34 columns]"
            ]
          },
          "metadata": {
            "tags": []
          },
          "execution_count": 6
        }
      ]
    },
    {
      "cell_type": "markdown",
      "metadata": {
        "id": "PSm-U7LEF5u_",
        "colab_type": "text"
      },
      "source": [
        "### Using the dataframe ```df```, perform the following: \n",
        "\n",
        "* Print the first five rows of the column ```MonthlyRate```. \n",
        "* Find out the details of the column ```MonthlyRate``` like mean, maximum value, minimum value, etc. "
      ]
    },
    {
      "cell_type": "code",
      "metadata": {
        "id": "QS5LttI-GT2f",
        "colab_type": "code",
        "colab": {
          "base_uri": "https://localhost:8080/",
          "height": 118
        },
        "outputId": "d3725ad3-6090-40ef-92b7-d37b29522be7"
      },
      "source": [
        "# Print the first five rows of MonthlyRate\n",
        "df_train.MonthlyRate.head(5)"
      ],
      "execution_count": 7,
      "outputs": [
        {
          "output_type": "execute_result",
          "data": {
            "text/plain": [
              "0    19479\n",
              "1    24907\n",
              "2     2396\n",
              "3    23159\n",
              "4    16632\n",
              "Name: MonthlyRate, dtype: int64"
            ]
          },
          "metadata": {
            "tags": []
          },
          "execution_count": 7
        }
      ]
    },
    {
      "cell_type": "code",
      "metadata": {
        "id": "EzQ1a1M0GURm",
        "colab_type": "code",
        "colab": {
          "base_uri": "https://localhost:8080/",
          "height": 168
        },
        "outputId": "3254d5e3-7a6a-4120-feae-b31154f35d72"
      },
      "source": [
        "# Find the details of MonthlyRate \n",
        "df_train.MonthlyRate.describe()"
      ],
      "execution_count": 11,
      "outputs": [
        {
          "output_type": "execute_result",
          "data": {
            "text/plain": [
              "count     1028.000000\n",
              "mean     14243.531128\n",
              "std       7048.768076\n",
              "min       2094.000000\n",
              "25%       8259.750000\n",
              "50%      14074.500000\n",
              "75%      20342.250000\n",
              "max      26999.000000\n",
              "Name: MonthlyRate, dtype: float64"
            ]
          },
          "metadata": {
            "tags": []
          },
          "execution_count": 11
        }
      ]
    },
    {
      "cell_type": "markdown",
      "metadata": {
        "id": "3h-YOTvPQI48",
        "colab_type": "text"
      },
      "source": [
        "---\n",
        "## Part 2 - Cleaning and manipulating data \n",
        "---"
      ]
    },
    {
      "cell_type": "markdown",
      "metadata": {
        "id": "EtLzBibsQfXu",
        "colab_type": "text"
      },
      "source": [
        "### Using the dataframe ```df```, peform the following:\n",
        "\n",
        "* Check whether there are any missing values in ```df```. \n",
        "* If yes, drop those values and print the size of ```df``` after dropping these. "
      ]
    },
    {
      "cell_type": "code",
      "metadata": {
        "id": "XG-UK53fRDRZ",
        "colab_type": "code",
        "colab": {
          "base_uri": "https://localhost:8080/",
          "height": 34
        },
        "outputId": "046d9bcb-171a-4b40-d167-e2e78748e015"
      },
      "source": [
        "# Check for missing values \n",
        "emp=df_train.Age.isna().sum()\n",
        "#print(emp)\n",
        "# Drop the missing values \n",
        "if emp>0:\n",
        "\n",
        "  df_movie=df_train.dropna()\n",
        "\n",
        "# Print the size of df after dropping \n",
        "  print(df_train.isna().sum())\n",
        "else:\n",
        "    print(\"No empty values\")\n"
      ],
      "execution_count": 35,
      "outputs": [
        {
          "output_type": "stream",
          "text": [
            "No empty values\n"
          ],
          "name": "stdout"
        }
      ]
    },
    {
      "cell_type": "markdown",
      "metadata": {
        "id": "qtoGcl2XRWnS",
        "colab_type": "text"
      },
      "source": [
        "### Using the dataframe ```df```, peform the following:\n",
        "\n",
        "* Add another column named ```MonthRateNew``` in ```df``` by subtracting the mean from ```MonthlyRate``` and dividing it by standard deviation. "
      ]
    },
    {
      "cell_type": "code",
      "metadata": {
        "id": "zDMncSUKR12P",
        "colab_type": "code",
        "colab": {
          "base_uri": "https://localhost:8080/",
          "height": 252
        },
        "outputId": "51a60330-d4a4-4e82-b88b-799e7f81e9bf"
      },
      "source": [
        "# Add a column named MonthRateNew \n",
        "\n",
        "MonthRateNew=(df_train.MonthlyRate-df_train.MonthlyRate.mean())/df_train.MonthlyRate.std()\n",
        "df_train['MonthRateNew']=MonthRateNew\n",
        "print(df_train)\n"
      ],
      "execution_count": 30,
      "outputs": [
        {
          "output_type": "stream",
          "text": [
            "      Age  Attrition  ...    ID  MonthRateNew\n",
            "0      41          1  ...     0      0.742749\n",
            "1      49          0  ...     1      1.512813\n",
            "2      37          1  ...     2     -1.680795\n",
            "3      33          0  ...     3      1.264827\n",
            "4      27          0  ...     4      0.338849\n",
            "...   ...        ...  ...   ...           ...\n",
            "1023   56          0  ...  1023     -0.531941\n",
            "1024   47          0  ...  1024      1.767609\n",
            "1025   24          0  ...  1025      0.137254\n",
            "1026   32          0  ...  1026      1.290930\n",
            "1027   34          0  ...  1027     -1.494663\n",
            "\n",
            "[1028 rows x 35 columns]\n"
          ],
          "name": "stdout"
        }
      ]
    },
    {
      "cell_type": "markdown",
      "metadata": {
        "id": "pcbN7jep13og",
        "colab_type": "text"
      },
      "source": [
        "### Using the dataframe ```movies```, perform the following: \n",
        "\n",
        "* Check whether there are any missing values in ```movies```. \n",
        "* Find out the number of observations/rows having any of their features/columns missing. \n",
        "* Drop the missing values and print the size of ```movies``` after dropping these. \n",
        "* Instead of dropping the missing values, replace the missing values by their mean (or some suitable value). \n"
      ]
    },
    {
      "cell_type": "code",
      "metadata": {
        "id": "DNszBx8A14ai",
        "colab_type": "code",
        "colab": {
          "base_uri": "https://localhost:8080/",
          "height": 588
        },
        "outputId": "8cb1fc01-9dfb-4430-e1dd-172bdd961a2e"
      },
      "source": [
        "# Check for missing values \n",
        "print(df_movie.isna().sum())\n",
        "# Drop the missing values \n",
        "print(df_movie.shape)\n",
        "df_movie=df_movie.dropna()\n",
        "print(df_movie.shape)\n",
        "# Replace the missing values \n",
        "# You can use SimpleImputer of sklearn for this\n",
        "\n"
      ],
      "execution_count": 40,
      "outputs": [
        {
          "output_type": "stream",
          "text": [
            "Unnamed: 0           0\n",
            "title                0\n",
            "title_type           0\n",
            "genre                0\n",
            "runtime              1\n",
            "mpaa_rating          0\n",
            "studio               5\n",
            "thtr_rel_year        0\n",
            "thtr_rel_month       0\n",
            "thtr_rel_day         0\n",
            "dvd_rel_year         7\n",
            "dvd_rel_month        7\n",
            "dvd_rel_day          7\n",
            "imdb_rating          0\n",
            "imdb_num_votes       0\n",
            "critics_rating       0\n",
            "critics_score        0\n",
            "audience_rating      0\n",
            "audience_score       0\n",
            "best_pic_nom         0\n",
            "best_pic_win         0\n",
            "best_actor_win       0\n",
            "best_actress_win     0\n",
            "best_dir_win         0\n",
            "top200_box           0\n",
            "director             2\n",
            "actor1               2\n",
            "actor2               7\n",
            "actor3               9\n",
            "actor4              12\n",
            "actor5              14\n",
            "dtype: int64\n",
            "(600, 31)\n",
            "(572, 31)\n"
          ],
          "name": "stdout"
        }
      ]
    },
    {
      "cell_type": "markdown",
      "metadata": {
        "id": "qDr11sjlBk_W",
        "colab_type": "text"
      },
      "source": [
        "---\n",
        "## Part 3 - Visualizing data \n",
        "---"
      ]
    },
    {
      "cell_type": "markdown",
      "metadata": {
        "id": "wC_w1zNCBw2G",
        "colab_type": "text"
      },
      "source": [
        "### Visualize the ```df``` by drawing the following plots:\n",
        "\n",
        "* Plot a histogram of ```Age``` and find the range in which most people are there. \n",
        "* Modify the histogram of ```Age``` by adding 30 bins. \n",
        "* Draw a scatter plot between ```Age``` and ```Attrition``` and suitable labels to the axes. Find out whether people more than 50 years are more likely to leave the company. (```Attrition``` = 1 means people have left the company). "
      ]
    },
    {
      "cell_type": "code",
      "metadata": {
        "id": "645EwAsoH63i",
        "colab_type": "code",
        "colab": {
          "base_uri": "https://localhost:8080/",
          "height": 546
        },
        "outputId": "c5067f0b-5a20-4100-d04d-dfb81379a542"
      },
      "source": [
        "# Plot and modify the histogram of Age\n",
        "plt.hist(df_train.Age, bins = 7, color='green', orientation='vertical')\n",
        "plt.title(\"Train data' Age\")\n",
        "plt.xlabel(\"Age of passengers\")\n",
        "plt.xticks(rotation='vertical')\n",
        "plt.show()\n",
        "plt.hist(df_train.Age, bins = 30, color='green', orientation='vertical')\n",
        "plt.show()\n",
        "# Draw a scatter plot between Age and Attrition\n",
        "\n"
      ],
      "execution_count": 50,
      "outputs": [
        {
          "output_type": "display_data",
          "data": {
            "image/png": "[encoded data removed]",
            "text/plain": [
              "<Figure size 432x288 with 1 Axes>"
            ]
          },
          "metadata": {
            "tags": [],
            "needs_background": "light"
          }
        },
        {
          "output_type": "display_data",
          "data": {
            "image/png": "[encoded data removed]",
            "text/plain": [
              "<Figure size 432x288 with 1 Axes>"
            ]
          },
          "metadata": {
            "tags": [],
            "needs_background": "light"
          }
        }
      ]
    },
    {
      "cell_type": "code",
      "metadata": {
        "id": "2Nn7r0xfo6Hi",
        "colab_type": "code",
        "colab": {
          "base_uri": "https://localhost:8080/",
          "height": 281
        },
        "outputId": "52f3f482-2413-4410-bf0e-6f38ebcf2c8a"
      },
      "source": [
        "plt.scatter(df_train.Age,df_train.Attrition, c='red')\n",
        "plt.title('Scatter plot of Age and Attrition')\n",
        "plt.show()"
      ],
      "execution_count": 53,
      "outputs": [
        {
          "output_type": "display_data",
          "data": {
            "image/png": "[encoded data removed]",
            "text/plain": [
              "<Figure size 432x288 with 1 Axes>"
            ]
          },
          "metadata": {
            "tags": [],
            "needs_background": "light"
          }
        }
      ]
    },
    {
      "cell_type": "markdown",
      "metadata": {
        "id": "eez_pkZ-HDKP",
        "colab_type": "text"
      },
      "source": [
        "### Visualize the ```df``` by following the steps given below:\n",
        "\n",
        "* Get a series containing counts of unique values of ```Attrition```.\n",
        "* Draw a countplot for ```Attrition``` using ```sns.countplot()```. "
      ]
    },
    {
      "cell_type": "code",
      "metadata": {
        "id": "Tp8LnxLWIPfk",
        "colab_type": "code",
        "colab": {
          "base_uri": "https://localhost:8080/",
          "height": 330
        },
        "outputId": "cd31795c-d573-4255-aedf-934f156c8626"
      },
      "source": [
        "# Get a series of counts of values of Attrition\n",
        "\n",
        "atri_counts = df_train.Attrition.value_counts()\n",
        "print(atri_counts)\n",
        "\n",
        "# Draw a countplot for Attrition \n",
        "# You may use countplot of seaborn for this \n",
        "sns.countplot(atri_counts)\n",
        "plt.show()\n"
      ],
      "execution_count": 56,
      "outputs": [
        {
          "output_type": "stream",
          "text": [
            "0    856\n",
            "1    172\n",
            "Name: Attrition, dtype: int64\n"
          ],
          "name": "stdout"
        },
        {
          "output_type": "display_data",
          "data": {
            "image/png": "[encoded data removed]",
            "text/plain": [
              "<Figure size 432x288 with 1 Axes>"
            ]
          },
          "metadata": {
            "tags": [],
            "needs_background": "light"
          }
        }
      ]
    },
    {
      "cell_type": "markdown",
      "metadata": {
        "id": "Vi01m9MBHaJD",
        "colab_type": "text"
      },
      "source": [
        "### Visualize the ```df``` by following the steps given below:\n",
        "\n",
        "* Draw a cross tabulation of ```Attrition``` and ```BusinessTravel``` as bar charts. Find which value of ```BusinessTravel``` has highest number of people."
      ]
    },
    {
      "cell_type": "code",
      "metadata": {
        "id": "5OHAeOqeIQVM",
        "colab_type": "code",
        "colab": {
          "base_uri": "https://localhost:8080/",
          "height": 293
        },
        "outputId": "6037483f-a422-480d-e4fa-132b64836503"
      },
      "source": [
        "# Draw a cross tab of Attritiona and BusinessTravel \n",
        "# You may use crosstab of pandas for this \n",
        "\n",
        "crosstab=pd.crosstab(df_train.Attrition,df_train.BusinessTravel)\n",
        "crosstab.plot.bar(stacked=True)"
      ],
      "execution_count": 61,
      "outputs": [
        {
          "output_type": "execute_result",
          "data": {
            "text/plain": [
              "<matplotlib.axes._subplots.AxesSubplot at 0x7f6fc87385c0>"
            ]
          },
          "metadata": {
            "tags": []
          },
          "execution_count": 61
        },
        {
          "output_type": "display_data",
          "data": {
            "image/png": "[encoded data removed]",
            "text/plain": [
              "<Figure size 432x288 with 1 Axes>"
            ]
          },
          "metadata": {
            "tags": [],
            "needs_background": "light"
          }
        }
      ]
    },
    {
      "cell_type": "markdown",
      "metadata": {
        "id": "1FCc9ZkUHfqL",
        "colab_type": "text"
      },
      "source": [
        "### Visualize the ```df``` by drawing the following plot:\n",
        "\n",
        "* Draw a stacked bar chart between ```Attrition``` and ```Gender``` columns. "
      ]
    },
    {
      "cell_type": "code",
      "metadata": {
        "id": "58ELSAXBIQST",
        "colab_type": "code",
        "colab": {
          "base_uri": "https://localhost:8080/",
          "height": 292
        },
        "outputId": "9d71c1c6-f35b-4f28-ad4e-9823ab3dc20d"
      },
      "source": [
        "# Draw a stacked bar chart between Attrition and Gender \n",
        "\n",
        "\n",
        "\n",
        "crosstab=pd.crosstab(df_train.Attrition,df_train.Gender)\n",
        "crosstab.plot.bar(stacked=True)\n",
        "plt.title(\"Bar chart\")\n",
        "\n",
        "plt.show()\n"
      ],
      "execution_count": 67,
      "outputs": [
        {
          "output_type": "display_data",
          "data": {
            "image/png": "[encoded data removed]",
            "text/plain": [
              "<Figure size 432x288 with 1 Axes>"
            ]
          },
          "metadata": {
            "tags": [],
            "needs_background": "light"
          }
        }
      ]
    },
    {
      "cell_type": "markdown",
      "metadata": {
        "id": "vZzsi8_QLEdq",
        "colab_type": "text"
      },
      "source": [
        "### Visualize the ```df``` by drawing the following histogram:\n",
        "\n",
        "* Draw a histogram of ```TotalWorkingYears``` with 30 bins. \n",
        "* Draw a histogram of ```YearsAtCompany``` with 30 bins and find whether the values in ```YearsAtCompany``` are skewed. "
      ]
    },
    {
      "cell_type": "code",
      "metadata": {
        "id": "zvSlfj3FLUvV",
        "colab_type": "code",
        "colab": {
          "base_uri": "https://localhost:8080/",
          "height": 298
        },
        "outputId": "2e342dab-9664-4b97-afd7-b677ec57bb83"
      },
      "source": [
        "# Draw a histogram of TotalWorkingYears with 30 bins\n",
        "plt.hist(df_train.TotalWorkingYears, bins = 30, color='green', orientation='vertical')\n",
        "\n",
        "plt.title(\"Total working year\")\n",
        "\n",
        "\n",
        "# Draw a histogram of YearsAtCompany\n",
        "\n"
      ],
      "execution_count": 70,
      "outputs": [
        {
          "output_type": "execute_result",
          "data": {
            "text/plain": [
              "Text(0.5, 1.0, 'Total working year')"
            ]
          },
          "metadata": {
            "tags": []
          },
          "execution_count": 70
        },
        {
          "output_type": "display_data",
          "data": {
            "image/png": "[encoded data removed]",
            "text/plain": [
              "<Figure size 432x288 with 1 Axes>"
            ]
          },
          "metadata": {
            "tags": [],
            "needs_background": "light"
          }
        }
      ]
    },
    {
      "cell_type": "code",
      "metadata": {
        "id": "AB7rGvA_2QW1",
        "colab_type": "code",
        "colab": {
          "base_uri": "https://localhost:8080/",
          "height": 298
        },
        "outputId": "e3388c3f-df9b-493a-fe34-8a63c1f10833"
      },
      "source": [
        "plt.hist(df_train.YearsAtCompany, bins = 30, color='green', orientation='vertical')\n",
        "\n",
        "plt.title(\"Year At Compony\")\n",
        "print(\"skewness for data:\",skew(df_train.YearsAtCompany))"
      ],
      "execution_count": 73,
      "outputs": [
        {
          "output_type": "stream",
          "text": [
            "skewness for data: 1.769905164307868\n"
          ],
          "name": "stdout"
        },
        {
          "output_type": "display_data",
          "data": {
            "image/png": "[encoded data removed]",
            "text/plain": [
              "<Figure size 432x288 with 1 Axes>"
            ]
          },
          "metadata": {
            "tags": [],
            "needs_background": "light"
          }
        }
      ]
    },
    {
      "cell_type": "markdown",
      "metadata": {
        "id": "oBcsFqz-Moja",
        "colab_type": "text"
      },
      "source": [
        "### Visualize the ```df``` by drawing the following boxplot:\n",
        "\n",
        "* Draw a boxplot of ```MonthlyIncome``` for each ```Department``` and report whether there is/are outlier(s). \n"
      ]
    },
    {
      "cell_type": "code",
      "metadata": {
        "id": "S6zsSE65NED9",
        "colab_type": "code",
        "colab": {
          "base_uri": "https://localhost:8080/",
          "height": 296
        },
        "outputId": "be8c90f6-bea0-418a-ebd6-6684348177d6"
      },
      "source": [
        "# Draw a boxplot of MonthlyIncome for each Department and report outliers \n",
        "sns.boxplot(df_train.MonthlyIncome,df_train.Department)\n"
      ],
      "execution_count": 74,
      "outputs": [
        {
          "output_type": "execute_result",
          "data": {
            "text/plain": [
              "<matplotlib.axes._subplots.AxesSubplot at 0x7f6fc5708160>"
            ]
          },
          "metadata": {
            "tags": []
          },
          "execution_count": 74
        },
        {
          "output_type": "display_data",
          "data": {
            "image/png": "[encoded data removed]",
            "text/plain": [
              "<Figure size 432x288 with 1 Axes>"
            ]
          },
          "metadata": {
            "tags": [],
            "needs_background": "light"
          }
        }
      ]
    },
    {
      "cell_type": "markdown",
      "metadata": {
        "id": "NRPgJjp-NX07",
        "colab_type": "text"
      },
      "source": [
        "### Visualize the ```df``` by drawing the following piechart:\n",
        "\n",
        "* Create a pie chart of the values in ```JobRole``` with suitable label and report which role has highest number of persons. "
      ]
    },
    {
      "cell_type": "code",
      "metadata": {
        "id": "5pr2HVVGNlaV",
        "colab_type": "code",
        "colab": {
          "base_uri": "https://localhost:8080/",
          "height": 550
        },
        "outputId": "42a54f2e-753c-47f7-fa4a-6e5094a7c87b"
      },
      "source": [
        "# Create a piechart of JobRole \n",
        "# You will need to find the counts of unique values in JobRole. \n",
        "cnt=df_train.JobRole.value_counts()\n",
        "plt.pie(cnt)\n",
        "\n"
      ],
      "execution_count": 77,
      "outputs": [
        {
          "output_type": "execute_result",
          "data": {
            "text/plain": [
              "([<matplotlib.patches.Wedge at 0x7f6fc835f208>,\n",
              "  <matplotlib.patches.Wedge at 0x7f6fc835f2e8>,\n",
              "  <matplotlib.patches.Wedge at 0x7f6fc5825160>,\n",
              "  <matplotlib.patches.Wedge at 0x7f6fc5825780>,\n",
              "  <matplotlib.patches.Wedge at 0x7f6fc5825668>,\n",
              "  <matplotlib.patches.Wedge at 0x7f6fc811e780>,\n",
              "  <matplotlib.patches.Wedge at 0x7f6fc811ea58>,\n",
              "  <matplotlib.patches.Wedge at 0x7f6fc811e9e8>,\n",
              "  <matplotlib.patches.Wedge at 0x7f6fc57faa20>],\n",
              " [Text(0.8542961340812947, 0.6929488547459725, ''),\n",
              "  Text(-0.45945693362420414, 0.9994495115535571, ''),\n",
              "  Text(-1.0981462091349679, -0.06383496974620964, ''),\n",
              "  Text(-0.6503653604759383, -0.8871442373667334, ''),\n",
              "  Text(-0.05712202505487643, -1.0985158507065933, ''),\n",
              "  Text(0.47770465248811617, -0.9908573383647155, ''),\n",
              "  Text(0.841447151537986, -0.708496077031207, ''),\n",
              "  Text(1.03505987357499, -0.37235877606808926, ''),\n",
              "  Text(1.09597534812125, -0.0940108308148859, '')])"
            ]
          },
          "metadata": {
            "tags": []
          },
          "execution_count": 77
        },
        {
          "output_type": "display_data",
          "data": {
            "image/png": "[encoded data removed]",
            "text/plain": [
              "<Figure size 432x288 with 1 Axes>"
            ]
          },
          "metadata": {
            "tags": []
          }
        }
      ]
    }
  ]
}